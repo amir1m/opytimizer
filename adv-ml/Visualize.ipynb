{
 "cells": [
  {
   "cell_type": "code",
   "execution_count": 1,
   "id": "506535b8",
   "metadata": {},
   "outputs": [],
   "source": [
    "# %load_ext autoreload\n",
    "# %autoreload 2\n",
    "import sys\n",
    "sys.path.append('.')\n",
    "sys.path.append('./adv-ml/')\n",
    "import numpy as np\n",
    "SEED = 42\n",
    "\n",
    "\n",
    "\n",
    "from ipywidgets import interact\n",
    "from skimage.metrics import structural_similarity as ssim\n",
    "from skimage.metrics import peak_signal_noise_ratio as psnr\n",
    "\n",
    "SEED = 42\n",
    "np.random.seed(SEED)\n",
    "\n",
    "from attack_utils import *\n",
    "\n",
    "#n_samples = 100\n",
    "\n",
    "# image = np.genfromtxt('x_test_opyt.csv', delimiter=',')\n",
    "# image1 = image.reshape((n_samples, 28,28,1))\n",
    "# show_digit(image1[0],1, model_logit.predict((image1[0].reshape((1,28,28,1)))))\n",
    "\n",
    "\n",
    "n_samples = 5\n",
    "images = np.genfromtxt('../x_test_random.csv', delimiter=',')\n",
    "orig_images = images.reshape((n_samples, 28,28,1))\n",
    "orig_labels = np.genfromtxt('../y_test_random.csv', delimiter=',')\n",
    "\n",
    "images = np.genfromtxt('../x_test_opyt.csv', delimiter=',')\n",
    "adv_images = images.reshape((n_samples, 28,28,1))\n",
    "adv_labels = np.genfromtxt('../y_pred_opyt.csv', delimiter=',')\n",
    "\n",
    "#np.savetxt('y_pred_opyt.csv', model_logit.predict(adv_images), delimiter=',')\n"
   ]
  },
  {
   "cell_type": "code",
   "execution_count": 2,
   "id": "cff7150c",
   "metadata": {},
   "outputs": [
    {
     "name": "stdout",
     "output_type": "stream",
     "text": [
      "MIS PREDS:  [0 1 2 3]\n",
      "Mis-classified Images: 4 out of Total: 5\n",
      "Mis preds:  [0 1 2 3]\n",
      "Mean L2 Dist.:  4.3594249303786805\n"
     ]
    },
    {
     "data": {
      "application/vnd.jupyter.widget-view+json": {
       "model_id": "76e24f89eda9470683a16f64f2241fbc",
       "version_major": 2,
       "version_minor": 0
      },
      "text/plain": [
       "interactive(children=(IntSlider(value=0, description='i', max=3), Output()), _dom_classes=('widget-interact',)…"
      ]
     },
     "metadata": {},
     "output_type": "display_data"
    }
   ],
   "source": [
    "browse_mis_samples(orig_images, adv_images,orig_labels, adv_labels)"
   ]
  },
  {
   "cell_type": "code",
   "execution_count": null,
   "id": "4dd36319",
   "metadata": {},
   "outputs": [],
   "source": []
  }
 ],
 "metadata": {
  "kernelspec": {
   "display_name": "Python 3",
   "language": "python",
   "name": "python3"
  },
  "language_info": {
   "codemirror_mode": {
    "name": "ipython",
    "version": 3
   },
   "file_extension": ".py",
   "mimetype": "text/x-python",
   "name": "python",
   "nbconvert_exporter": "python",
   "pygments_lexer": "ipython3",
   "version": "3.7.10"
  }
 },
 "nbformat": 4,
 "nbformat_minor": 5
}
