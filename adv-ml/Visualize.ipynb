{
 "cells": [
  {
   "cell_type": "code",
   "execution_count": 44,
   "id": "506535b8",
   "metadata": {},
   "outputs": [],
   "source": [
    "# %load_ext autoreload\n",
    "# %autoreload 2\n",
    "import sys\n",
    "sys.path.append('.')\n",
    "sys.path.append('./adv-ml/')\n",
    "import numpy as np\n",
    "SEED = 42\n",
    "\n",
    "\n",
    "\n",
    "from ipywidgets import interact\n",
    "from skimage.metrics import structural_similarity as ssim\n",
    "from skimage.metrics import peak_signal_noise_ratio as psnr\n",
    "\n",
    "SEED = 42\n",
    "np.random.seed(SEED)\n",
    "\n",
    "from attack_utils import *\n",
    "\n",
    "#n_samples = 100\n",
    "\n",
    "# image = np.genfromtxt('x_test_opyt.csv', delimiter=',')\n",
    "# image1 = image.reshape((n_samples, 28,28,1))\n",
    "# show_digit(image1[0],1, model_logit.predict((image1[0].reshape((1,28,28,1)))))\n"
   ]
  },
  {
   "cell_type": "code",
   "execution_count": 46,
   "id": "0424c390",
   "metadata": {},
   "outputs": [],
   "source": [
    "n_samples = 2\n",
    "images = np.genfromtxt('../x_test_random_mnist.csv', delimiter=',')\n",
    "orig_images = images.reshape((n_samples, 28,28,1))\n",
    "orig_labels = np.genfromtxt('../y_test_random_mnist.csv', delimiter=',')\n",
    "\n",
    "images = np.genfromtxt('../x_test_opyt_mnist.csv', delimiter=',')\n",
    "adv_images = images.reshape((n_samples, 28,28,1))\n",
    "adv_labels = np.genfromtxt('../y_pred_opyt_mnist.csv', delimiter=',')\n",
    "\n",
    "#np.savetxt('y_pred_opyt.csv', model_logit.predict(adv_images), delimiter=',')"
   ]
  },
  {
   "cell_type": "code",
   "execution_count": 47,
   "id": "cff7150c",
   "metadata": {},
   "outputs": [
    {
     "name": "stdout",
     "output_type": "stream",
     "text": [
      "MIS PREDS:  [0 1]\n",
      "Mis-classified Images: 2 out of Total: 2\n",
      "Mis preds:  [0 1]\n",
      "Mean L2 Dist.:  4.562900590048676\n"
     ]
    },
    {
     "data": {
      "application/vnd.jupyter.widget-view+json": {
       "model_id": "cfed24ae5626459b8cb4f8d66b752c06",
       "version_major": 2,
       "version_minor": 0
      },
      "text/plain": [
       "interactive(children=(IntSlider(value=0, description='i', max=1), Output()), _dom_classes=('widget-interact',)…"
      ]
     },
     "metadata": {},
     "output_type": "display_data"
    }
   ],
   "source": [
    "browse_mis_samples(orig_images, adv_images,orig_labels, adv_labels)"
   ]
  },
  {
   "cell_type": "code",
   "execution_count": 36,
   "id": "4dd36319",
   "metadata": {},
   "outputs": [
    {
     "data": {
      "text/plain": [
       "4.466855837777021"
      ]
     },
     "execution_count": 36,
     "metadata": {},
     "output_type": "execute_result"
    }
   ],
   "source": [
    "n_samples = 2\n",
    "dim = (n_samples,32,32,3)\n",
    "images = np.genfromtxt('../x_test_random_cifar10.csv', delimiter=',')\n",
    "orig_images = images.reshape(dim)\n",
    "orig_labels = np.genfromtxt('../y_test_random_cifar10.csv', delimiter=',')\n",
    "\n",
    "images = np.genfromtxt('../x_test_opyt_cifar10.csv', delimiter=',')\n",
    "adv_images = images.reshape(dim)\n",
    "adv_labels = np.genfromtxt('../y_pred_opyt_cifar10.csv', delimiter=',')\n",
    "l_2_dist(orig_images, adv_images)"
   ]
  },
  {
   "cell_type": "code",
   "execution_count": 39,
   "id": "253177c7",
   "metadata": {},
   "outputs": [
    {
     "data": {
      "image/png": "[encoded data removed]",
      "text/plain": [
       "<Figure size 360x144 with 1 Axes>"
      ]
     },
     "metadata": {
      "needs_background": "light"
     },
     "output_type": "display_data"
    }
   ],
   "source": [
    "show_image(orig_images[0], orig_labels[0])"
   ]
  },
  {
   "cell_type": "code",
   "execution_count": 40,
   "id": "6cc225d3",
   "metadata": {},
   "outputs": [
    {
     "data": {
      "image/png": "[encoded data removed]",
      "text/plain": [
       "<Figure size 360x144 with 1 Axes>"
      ]
     },
     "metadata": {
      "needs_background": "light"
     },
     "output_type": "display_data"
    }
   ],
   "source": [
    "show_image(adv_images[0], adv_labels[0])"
   ]
  },
  {
   "cell_type": "code",
   "execution_count": null,
   "id": "1ca04e70",
   "metadata": {},
   "outputs": [],
   "source": []
  }
 ],
 "metadata": {
  "kernelspec": {
   "display_name": "Python 3",
   "language": "python",
   "name": "python3"
  },
  "language_info": {
   "codemirror_mode": {
    "name": "ipython",
    "version": 3
   },
   "file_extension": ".py",
   "mimetype": "text/x-python",
   "name": "python",
   "nbconvert_exporter": "python",
   "pygments_lexer": "ipython3",
   "version": "3.7.10"
  }
 },
 "nbformat": 4,
 "nbformat_minor": 5
}
