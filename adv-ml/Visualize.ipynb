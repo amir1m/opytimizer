{
 "cells": [
  {
   "cell_type": "code",
   "execution_count": 1,
   "id": "a475a2d5",
   "metadata": {},
   "outputs": [],
   "source": [
    "%load_ext autoreload\n",
    "%autoreload 2"
   ]
  },
  {
   "cell_type": "code",
   "execution_count": 2,
   "id": "506535b8",
   "metadata": {},
   "outputs": [],
   "source": [
    "import sys\n",
    "sys.path.append('.')\n",
    "sys.path.append('../')\n",
    "sys.path.append('./adv-ml/')\n",
    "import numpy as np\n",
    "SEED = 42\n",
    "\n",
    "\n",
    "\n",
    "from ipywidgets import interact\n",
    "from skimage.metrics import structural_similarity as ssim\n",
    "from skimage.metrics import peak_signal_noise_ratio as psnr\n",
    "\n",
    "SEED = 42\n",
    "np.random.seed(SEED)\n",
    "\n",
    "from attack_utils import *\n",
    "\n",
    "cifar_class_names = ['airplane', 'automobile', 'bird', 'cat', 'deer',\n",
    "               'dog', 'frog', 'horse', 'ship', 'truck']\n",
    "mnist_class_names = ['0', '1', '2', '3', '4',\n",
    "               '5', '6', '7', '8', '9']\n",
    "#n_samples = 100\n",
    "\n",
    "# image = np.genfromtxt('x_test_opyt.csv', delimiter=',')\n",
    "# image1 = image.reshape((n_samples, 28,28,1))\n",
    "# show_digit(image1[0],1, model_logit.predict((image1[0].reshape((1,28,28,1)))))\n"
   ]
  },
  {
   "cell_type": "code",
   "execution_count": 3,
   "id": "0424c390",
   "metadata": {},
   "outputs": [],
   "source": [
    "n_samples = 10\n",
    "images = np.genfromtxt('../x_test_random_mnist.csv', delimiter=',')\n",
    "orig_images = images.reshape((n_samples, 28,28,1))\n",
    "orig_labels = np.genfromtxt('../y_test_random_mnist.csv', delimiter=',')\n",
    "\n",
    "images = np.genfromtxt('../x_test_opyt_mnist.csv', delimiter=',')\n",
    "adv_images = images.reshape((n_samples, 28,28,1))\n",
    "adv_labels = np.genfromtxt('../y_pred_opyt_mnist.csv', delimiter=',')\n",
    "\n",
    "#np.savetxt('y_pred_opyt.csv', model_logit.predict(adv_images), delimiter=',')"
   ]
  },
  {
   "cell_type": "code",
   "execution_count": null,
   "id": "cff7150c",
   "metadata": {},
   "outputs": [],
   "source": [
    "browse_mis_samples(orig_images, adv_images,orig_labels, adv_labels, class_name=mnist_class_names)"
   ]
  },
  {
   "cell_type": "code",
   "execution_count": null,
   "id": "4dd36319",
   "metadata": {},
   "outputs": [],
   "source": [
    "n_samples = 10\n",
    "dim = (n_samples,32,32,3)\n",
    "images = np.genfromtxt('../x_test_random_cifar10.csv', delimiter=',')\n",
    "orig_images = images.reshape(dim)\n",
    "orig_labels = np.genfromtxt('../y_test_random_cifar10.csv', delimiter=',')\n",
    "\n",
    "images = np.genfromtxt('../x_test_opyt_cifar10.csv', delimiter=',')\n",
    "adv_images = images.reshape(dim)\n",
    "adv_labels = np.genfromtxt('../y_pred_opyt_cifar10.csv', delimiter=',')"
   ]
  },
  {
   "cell_type": "code",
   "execution_count": null,
   "id": "253177c7",
   "metadata": {},
   "outputs": [],
   "source": [
    "i=5\n",
    "show_image(orig_images[i], orig_labels[i])"
   ]
  },
  {
   "cell_type": "code",
   "execution_count": null,
   "id": "6cc225d3",
   "metadata": {},
   "outputs": [],
   "source": [
    "show_image(adv_images[i], adv_labels[i])"
   ]
  },
  {
   "cell_type": "code",
   "execution_count": null,
   "id": "1ca04e70",
   "metadata": {},
   "outputs": [],
   "source": [
    "browse_mis_samples(orig_images, adv_images,orig_labels, adv_labels, dim=(10,32,32,3), class_name=cifar_class_names)"
   ]
  },
  {
   "cell_type": "code",
   "execution_count": 48,
   "id": "53494418",
   "metadata": {},
   "outputs": [],
   "source": [
    "n_samples = 10\n",
    "dim = (n_samples,32,32,3)\n",
    "images = np.genfromtxt('../soft/CLEAN_X.csv', delimiter=',')\n",
    "orig_images = images.reshape(dim)\n",
    "orig_labels = np.genfromtxt('../soft/CLEAN_Y.csv', delimiter=',')\n",
    "\n",
    "images = np.genfromtxt('../soft/SIMBA_X.csv', delimiter=',')\n",
    "adv_images = images.reshape(dim)\n",
    "adv_labels = np.genfromtxt('../soft/SIMBA_Y.csv', delimiter=',')"
   ]
  },
  {
   "cell_type": "code",
   "execution_count": 51,
   "id": "678622ed",
   "metadata": {},
   "outputs": [
    {
     "name": "stdout",
     "output_type": "stream",
     "text": [
      "CORRECTED Mis-classified Images: 1 out of Total: 10\n",
      "Mis preds:  [0]\n",
      "Mean L2 Dist.:  1.6733199460307637\n"
     ]
    },
    {
     "data": {
      "application/vnd.jupyter.widget-view+json": {
       "model_id": "05c37bf8935d404b8a4a759729f9cb90",
       "version_major": 2,
       "version_minor": 0
      },
      "text/plain": [
       "interactive(children=(IntSlider(value=0, description='i', max=0), Output()), _dom_classes=('widget-interact',)…"
      ]
     },
     "metadata": {},
     "output_type": "display_data"
    }
   ],
   "source": [
    "browse_mis_samples(orig_images, adv_images,orig_labels, adv_labels, dim=(n_samples,32,32,3), class_name=cifar_class_names)"
   ]
  },
  {
   "cell_type": "code",
   "execution_count": 50,
   "id": "b871cb6a",
   "metadata": {},
   "outputs": [
    {
     "name": "stdout",
     "output_type": "stream",
     "text": [
      "CORRECTED Mis-classified Images: 3 out of Total: 10\n",
      "Mis preds:  [5 6 9]\n",
      "Mean L2 Dist.:  1.4640003796700223\n"
     ]
    },
    {
     "data": {
      "application/vnd.jupyter.widget-view+json": {
       "model_id": "879c7a7e95844e37aed4c3ff5c47627c",
       "version_major": 2,
       "version_minor": 0
      },
      "text/plain": [
       "interactive(children=(IntSlider(value=0, description='i', max=2), Output()), _dom_classes=('widget-interact',)…"
      ]
     },
     "metadata": {},
     "output_type": "display_data"
    }
   ],
   "source": [
    "images_opyt = np.genfromtxt('../soft/OPYT_X.csv', delimiter=',')\n",
    "adv_images_opyt = images_opyt.reshape(dim)\n",
    "adv_labels_opyt = np.genfromtxt('../soft/OPYT_Y.csv', delimiter=',')\n",
    "browse_mis_samples(orig_images, adv_images_opyt,orig_labels, adv_labels_opyt, dim=(n_samples,32,32,3), class_name=cifar_class_names)\n"
   ]
  },
  {
   "cell_type": "code",
   "execution_count": 45,
   "id": "1f01e995",
   "metadata": {},
   "outputs": [
    {
     "data": {
      "text/plain": [
       "1.0216516624810597"
      ]
     },
     "execution_count": 45,
     "metadata": {},
     "output_type": "execute_result"
    }
   ],
   "source": [
    "l_2_dist(orig_images[5],adv_images_opyt[5])"
   ]
  },
  {
   "cell_type": "code",
   "execution_count": 52,
   "id": "827a8491",
   "metadata": {},
   "outputs": [
    {
     "data": {
      "text/plain": [
       "{'L2': 1.0217, 'L-INF': 0.0485, 'WS': 0.0051, 'ssim': 0.9773, 'psnr': 34.6882}"
      ]
     },
     "execution_count": 52,
     "metadata": {},
     "output_type": "execute_result"
    }
   ],
   "source": [
    "get_all_dist(orig_images[5],adv_images_opyt[5])"
   ]
  },
  {
   "cell_type": "code",
   "execution_count": 68,
   "id": "04a42de8",
   "metadata": {},
   "outputs": [],
   "source": [
    "#MODAOA\n",
    "n_samples = 100\n",
    "dim = (n_samples,32,32,3)\n",
    "images = np.genfromtxt('../MODAOA_data/x_test_random_cifar10.csv', delimiter=',')\n",
    "orig_images = images.reshape(dim)\n",
    "orig_labels = np.genfromtxt('../MODAOA_data/y_test_random_cifar10.csv', delimiter=',')\n",
    "\n",
    "images = np.genfromtxt('../MODAOA_data/x_test_opyt_cifar10.csv', delimiter=',')\n",
    "adv_images = images.reshape(dim)\n",
    "adv_labels = np.genfromtxt('../MODAOA_data/y_pred_opyt_cifar10.csv', delimiter=',')"
   ]
  },
  {
   "cell_type": "code",
   "execution_count": 69,
   "id": "6e419478",
   "metadata": {},
   "outputs": [
    {
     "name": "stdout",
     "output_type": "stream",
     "text": [
      "CORRECTED Mis-classified Images: 39 out of Total: 100\n",
      "Mis preds:  [ 5  6  9 10 12 20 28 29 31 32 35 38 39 42 46 47 50 51 52 55 61 63 64 67\n",
      " 68 69 71 72 74 76 77 78 79 80 83 85 86 92 93]\n",
      "Mean L2 Dist.:  1.9199784147135783\n"
     ]
    },
    {
     "data": {
      "application/vnd.jupyter.widget-view+json": {
       "model_id": "64f67cbd0d2544c5a2caa1ee670c9459",
       "version_major": 2,
       "version_minor": 0
      },
      "text/plain": [
       "interactive(children=(IntSlider(value=0, description='i', max=38), Output()), _dom_classes=('widget-interact',…"
      ]
     },
     "metadata": {},
     "output_type": "display_data"
    }
   ],
   "source": [
    "browse_mis_samples(orig_images, adv_images, orig_labels, adv_labels, dim=(n_samples,32,32,3), class_name=cifar_class_names)"
   ]
  },
  {
   "cell_type": "code",
   "execution_count": 62,
   "id": "e1a1bacf",
   "metadata": {},
   "outputs": [],
   "source": [
    "## PSO\n",
    "n_samples = 100\n",
    "dim = (n_samples,32,32,3)\n",
    "images = np.genfromtxt('../test-PSO/CLEAN_X.csv', delimiter=',')\n",
    "orig_images = images.reshape(dim)\n",
    "orig_labels = np.genfromtxt('../test-PSO/CLEAN_Y.csv', delimiter=',')\n",
    "\n",
    "images = np.genfromtxt('../test-PSO/OPYT_X.csv', delimiter=',')\n",
    "adv_images = images.reshape(dim)\n",
    "adv_labels = np.genfromtxt('../test-PSO/OPYT_Y.csv', delimiter=',')"
   ]
  },
  {
   "cell_type": "code",
   "execution_count": 63,
   "id": "88c2187e",
   "metadata": {},
   "outputs": [
    {
     "name": "stdout",
     "output_type": "stream",
     "text": [
      "CORRECTED Mis-classified Images: 25 out of Total: 100\n",
      "Mis preds:  [ 5  6  9 12 28 32 39 42 46 47 50 51 52 55 56 63 64 69 71 72 74 79 86 92\n",
      " 93]\n",
      "Mean L2 Dist.:  1.833874716542494\n"
     ]
    },
    {
     "data": {
      "application/vnd.jupyter.widget-view+json": {
       "model_id": "afc71491a4b14b05aca605cfa55c405d",
       "version_major": 2,
       "version_minor": 0
      },
      "text/plain": [
       "interactive(children=(IntSlider(value=0, description='i', max=24), Output()), _dom_classes=('widget-interact',…"
      ]
     },
     "metadata": {},
     "output_type": "display_data"
    }
   ],
   "source": [
    "browse_mis_samples(orig_images, adv_images, orig_labels, adv_labels, dim=(n_samples,32,32,3), class_name=cifar_class_names)"
   ]
  },
  {
   "cell_type": "code",
   "execution_count": 5,
   "id": "34eecaf3",
   "metadata": {},
   "outputs": [],
   "source": [
    "## BOUNDARY\n",
    "n_samples = 100\n",
    "dim = (n_samples,32,32,3)\n",
    "images = np.genfromtxt('../test_boundary/CLEAN_X.csv', delimiter=',')\n",
    "orig_images = images.reshape(dim)\n",
    "orig_labels = np.genfromtxt('../test_boundary/CLEAN_Y.csv', delimiter=',')\n",
    "\n",
    "images = np.genfromtxt('../test_boundary/BOUNDARY_X.csv', delimiter=',')\n",
    "adv_images = images.reshape(dim)\n",
    "adv_labels = np.genfromtxt('../test_boundary/BOUNDARY_Y.csv', delimiter=',')"
   ]
  },
  {
   "cell_type": "code",
   "execution_count": 6,
   "id": "d9f3ca1d",
   "metadata": {},
   "outputs": [
    {
     "name": "stdout",
     "output_type": "stream",
     "text": [
      "CORRECTED Mis-classified Images: 97 out of Total: 100\n",
      "Mis preds:  [ 0  1  2  3  4  5  6  7  8  9 10 11 12 13 14 15 16 17 18 19 20 22 23 24\n",
      " 25 26 27 28 29 30 31 32 33 34 36 37 38 39 40 41 42 43 44 45 46 47 48 49\n",
      " 50 51 52 53 54 55 56 57 58 59 60 61 62 63 64 65 66 67 68 69 70 71 73 74\n",
      " 75 76 77 78 79 80 81 82 83 84 85 86 87 88 89 90 91 92 93 94 95 96 97 98\n",
      " 99]\n",
      "Mean L2 Dist.:  0.31410712464424956\n"
     ]
    },
    {
     "data": {
      "application/vnd.jupyter.widget-view+json": {
       "model_id": "ed55e80e476d4ba394187a9091fb7f85",
       "version_major": 2,
       "version_minor": 0
      },
      "text/plain": [
       "interactive(children=(IntSlider(value=0, description='i', max=96), Output()), _dom_classes=('widget-interact',…"
      ]
     },
     "metadata": {},
     "output_type": "display_data"
    }
   ],
   "source": [
    "browse_mis_samples(orig_images, adv_images, orig_labels, adv_labels, dim=(n_samples,32,32,3), class_name=cifar_class_names)"
   ]
  },
  {
   "cell_type": "code",
   "execution_count": 105,
   "id": "c65367e4",
   "metadata": {},
   "outputs": [],
   "source": [
    "#MODAOA - Expt\n",
    "n_samples = 1\n",
    "dim = (n_samples,32,32,3)\n",
    "images = np.genfromtxt('../x_test_random_cifar10.csv', delimiter=',')\n",
    "orig_images = images.reshape(dim)\n",
    "orig_labels = np.genfromtxt('../y_test_random_cifar10.csv', delimiter=',')\n",
    "\n",
    "images = np.genfromtxt('../x_test_opyt_cifar10.csv', delimiter=',')\n",
    "adv_images = images.reshape(dim)\n",
    "adv_labels = np.genfromtxt('../y_pred_opyt_cifar10.csv', delimiter=',')"
   ]
  },
  {
   "cell_type": "code",
   "execution_count": 106,
   "id": "46222418",
   "metadata": {},
   "outputs": [
    {
     "name": "stdout",
     "output_type": "stream",
     "text": [
      "y true len ..:  10\n",
      "CORRECTED Mis-classified Images: 1 out of Total: 1\n",
      "Mis preds:  [0]\n",
      "Mean L2 Dist.:  1.9848604532098113\n"
     ]
    },
    {
     "data": {
      "application/vnd.jupyter.widget-view+json": {
       "model_id": "a5c808e82fb44a2297b7e08e7eb4401a",
       "version_major": 2,
       "version_minor": 0
      },
      "text/plain": [
       "interactive(children=(IntSlider(value=0, description='i', max=0), Output()), _dom_classes=('widget-interact',)…"
      ]
     },
     "metadata": {},
     "output_type": "display_data"
    }
   ],
   "source": [
    "browse_mis_samples(orig_images, adv_images, orig_labels, adv_labels, dim=(n_samples,32,32,3), class_name=cifar_class_names)"
   ]
  },
  {
   "cell_type": "code",
   "execution_count": 3,
   "id": "e5fe6e3e",
   "metadata": {},
   "outputs": [],
   "source": [
    "#CSO\n",
    "n_samples = 10\n",
    "dim = (n_samples,32,32,3)\n",
    "images = np.genfromtxt('../test_opyt_cso/CLEAN_X.csv', delimiter=',')\n",
    "orig_images = images.reshape(dim)\n",
    "orig_labels = np.genfromtxt('../test_opyt_cso/CLEAN_Y.csv', delimiter=',')\n",
    "\n",
    "images = np.genfromtxt('../test_opyt_cso/OPYT_X.csv', delimiter=',')\n",
    "adv_images = images.reshape(dim)\n",
    "adv_labels = np.genfromtxt('../test_opyt_cso/OPYT_Y.csv', delimiter=',')"
   ]
  },
  {
   "cell_type": "code",
   "execution_count": 4,
   "id": "0a739f24",
   "metadata": {},
   "outputs": [
    {
     "name": "stdout",
     "output_type": "stream",
     "text": [
      "CORRECTED Mis-classified Images: 5 out of Total: 10\n",
      "Mis preds:  [2 3 5 6 9]\n",
      "Mean L2 Dist.:  1.8403858807406848\n"
     ]
    },
    {
     "data": {
      "application/vnd.jupyter.widget-view+json": {
       "model_id": "547bf7252ea04b54a848de49301b53d8",
       "version_major": 2,
       "version_minor": 0
      },
      "text/plain": [
       "interactive(children=(IntSlider(value=0, description='i', max=4), Output()), _dom_classes=('widget-interact',)…"
      ]
     },
     "metadata": {},
     "output_type": "display_data"
    }
   ],
   "source": [
    "browse_mis_samples(orig_images, adv_images, orig_labels, adv_labels, dim=(n_samples,32,32,3), class_name=cifar_class_names)"
   ]
  },
  {
   "cell_type": "code",
   "execution_count": 205,
   "id": "faee8d29",
   "metadata": {},
   "outputs": [],
   "source": [
    "#MODAOA with new Evall function\n",
    "n_samples = 2\n",
    "dim = (n_samples,32,32,3)\n",
    "images = np.genfromtxt('../target_opyt/CLEAN_X.csv', delimiter=',')\n",
    "orig_images = images.reshape(dim)\n",
    "orig_labels = np.genfromtxt('../target_opyt/CLEAN_Y.csv', delimiter=',')\n",
    "\n",
    "images = np.genfromtxt('../target_opyt/OPYT_TARGET_X.csv', delimiter=',')\n",
    "adv_images = images.reshape(dim)\n",
    "adv_labels = np.genfromtxt('../target_opyt/OPYT_TARGET_Y.csv', delimiter=',')"
   ]
  },
  {
   "cell_type": "code",
   "execution_count": 206,
   "id": "efc8342d",
   "metadata": {},
   "outputs": [
    {
     "data": {
      "image/png": "[encoded data removed]",
      "text/plain": [
       "<Figure size 360x144 with 1 Axes>"
      ]
     },
     "metadata": {
      "needs_background": "light"
     },
     "output_type": "display_data"
    }
   ],
   "source": [
    "show_image(adv_images[1], 1)"
   ]
  },
  {
   "cell_type": "code",
   "execution_count": 204,
   "id": "f579653b",
   "metadata": {},
   "outputs": [
    {
     "data": {
      "image/png": "[encoded data removed]",
      "text/plain": [
       "<Figure size 360x144 with 1 Axes>"
      ]
     },
     "metadata": {
      "needs_background": "light"
     },
     "output_type": "display_data"
    }
   ],
   "source": [
    "show_image(orig_images[1], 1)"
   ]
  },
  {
   "cell_type": "code",
   "execution_count": null,
   "id": "35249440",
   "metadata": {},
   "outputs": [],
   "source": []
  }
 ],
 "metadata": {
  "kernelspec": {
   "display_name": "Python 3",
   "language": "python",
   "name": "python3"
  },
  "language_info": {
   "codemirror_mode": {
    "name": "ipython",
    "version": 3
   },
   "file_extension": ".py",
   "mimetype": "text/x-python",
   "name": "python",
   "nbconvert_exporter": "python",
   "pygments_lexer": "ipython3",
   "version": "3.7.10"
  }
 },
 "nbformat": 4,
 "nbformat_minor": 5
}
