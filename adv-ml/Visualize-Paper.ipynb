{
 "cells": [
  {
   "cell_type": "code",
   "execution_count": 1,
   "id": "81054605",
   "metadata": {},
   "outputs": [],
   "source": [
    "%load_ext autoreload\n",
    "%autoreload 2"
   ]
  },
  {
   "cell_type": "code",
   "execution_count": 2,
   "id": "0b463963",
   "metadata": {},
   "outputs": [],
   "source": [
    "import sys\n",
    "sys.path.append('.')\n",
    "sys.path.append('../')\n",
    "sys.path.append('./adv-ml/')\n",
    "import numpy as np\n",
    "SEED = 42\n",
    "\n",
    "\n",
    "\n",
    "from ipywidgets import interact\n",
    "from skimage.metrics import structural_similarity as ssim\n",
    "from skimage.metrics import peak_signal_noise_ratio as psnr\n",
    "\n",
    "SEED = 42\n",
    "np.random.seed(SEED)\n",
    "\n",
    "from attack_utils import *\n",
    "\n",
    "cifar_class_names = ['airplane', 'automobile', 'bird', 'cat', 'deer',\n",
    "               'dog', 'frog', 'horse', 'ship', 'truck']\n",
    "mnist_class_names = ['0', '1', '2', '3', '4',\n",
    "               '5', '6', '7', '8', '9']\n",
    "#n_samples = 100\n",
    "\n",
    "# image = np.genfromtxt('x_test_opyt.csv', delimiter=',')\n",
    "# image1 = image.reshape((n_samples, 28,28,1))\n",
    "# show_digit(image1[0],1, model_logit.predict((image1[0].reshape((1,28,28,1)))))\n"
   ]
  },
  {
   "cell_type": "code",
   "execution_count": 35,
   "id": "85374fd6",
   "metadata": {},
   "outputs": [
    {
     "name": "stdout",
     "output_type": "stream",
     "text": [
      "CORRECTED Mis-classified Images: 39 out of Total: 100\n",
      "Mis preds:  [ 2  5  6  9 10 11 12 20 28 29 32 35 38 39 42 46 47 50 52 53 55 56 59 61\n",
      " 63 64 67 68 71 72 74 76 79 80 83 85 86 92 93]\n",
      "Mean L2 Dist.: 1.8642758458079702\n",
      "Median L2 Dist.: 1.5969145659414616\n"
     ]
    },
    {
     "data": {
      "application/vnd.jupyter.widget-view+json": {
       "model_id": "12f18f6296654871b49a8fb86d8a1822",
       "version_major": 2,
       "version_minor": 0
      },
      "text/plain": [
       "interactive(children=(IntSlider(value=0, description='i', max=38), Output()), _dom_classes=('widget-interact',…"
      ]
     },
     "metadata": {},
     "output_type": "display_data"
    }
   ],
   "source": [
    "#MODAOA with 210 Queries\n",
    "n_samples = 100\n",
    "dim = (n_samples,32,32,3)\n",
    "images = np.genfromtxt('../test_hard_label_modaoa_20_iters/CLEAN_X.csv', delimiter=',')\n",
    "orig_images = images.reshape(dim)\n",
    "orig_labels = np.genfromtxt('../test_hard_label_modaoa_20_iters/CLEAN_Y.csv', delimiter=',')\n",
    "\n",
    "images = np.genfromtxt('../test_hard_label_modaoa_20_iters/OPYT_X.csv', delimiter=',')\n",
    "adv_images_210 = images.reshape(dim)\n",
    "adv_labels_210 = np.genfromtxt('../test_hard_label_modaoa_20_iters/OPYT_Y.csv', delimiter=',')\n",
    "\n",
    "browse_mis_samples(orig_images, adv_images_210, orig_labels, adv_labels_210, dim=(n_samples,32,32,3), class_name=cifar_class_names)"
   ]
  },
  {
   "cell_type": "code",
   "execution_count": 36,
   "id": "0411b85c",
   "metadata": {},
   "outputs": [
    {
     "name": "stdout",
     "output_type": "stream",
     "text": [
      "CORRECTED Mis-classified Images: 41 out of Total: 100\n",
      "Mis preds:  [ 2  5  6 10 11 12 20 24 28 29 32 34 35 38 39 42 46 47 50 51 52 53 55 56\n",
      " 61 63 67 68 69 71 72 74 76 77 79 80 83 85 86 92 93]\n",
      "Mean L2 Dist.: 1.292219671688578\n",
      "Median L2 Dist.: 1.3596906133193656\n"
     ]
    },
    {
     "data": {
      "application/vnd.jupyter.widget-view+json": {
       "model_id": "fc365ca983e84c7f952b12bc470123c8",
       "version_major": 2,
       "version_minor": 0
      },
      "text/plain": [
       "interactive(children=(IntSlider(value=0, description='i', max=40), Output()), _dom_classes=('widget-interact',…"
      ]
     },
     "metadata": {},
     "output_type": "display_data"
    }
   ],
   "source": [
    "#MODAOA with 465 Queries\n",
    "n_samples = 100\n",
    "dim = (n_samples,32,32,3)\n",
    "images = np.genfromtxt('../test_hard_label_modaoa_30_iters/CLEAN_X.csv', delimiter=',')\n",
    "orig_images = images.reshape(dim)\n",
    "orig_labels = np.genfromtxt('../test_hard_label_modaoa_30_iters/CLEAN_Y.csv', delimiter=',')\n",
    "\n",
    "images = np.genfromtxt('../test_hard_label_modaoa_30_iters/OPYT_X.csv', delimiter=',')\n",
    "adv_images_465 = images.reshape(dim)\n",
    "adv_labels_465 = np.genfromtxt('../test_hard_label_modaoa_30_iters/OPYT_Y.csv', delimiter=',')\n",
    "\n",
    "browse_mis_samples(orig_images, adv_images_465, orig_labels, adv_labels_465, dim=(n_samples,32,32,3), class_name=cifar_class_names)"
   ]
  },
  {
   "cell_type": "code",
   "execution_count": 37,
   "id": "fbc66b73",
   "metadata": {},
   "outputs": [
    {
     "name": "stdout",
     "output_type": "stream",
     "text": [
      "CORRECTED Mis-classified Images: 47 out of Total: 100\n",
      "Mis preds:  [ 2  5  6  9 10 11 12 16 19 20 21 24 26 28 29 31 32 34 35 38 39 42 43 46\n",
      " 47 50 51 52 53 55 56 61 63 66 67 68 71 72 74 76 77 79 83 85 86 92 93]\n",
      "Mean L2 Dist.: 1.617611268016677\n",
      "Median L2 Dist.: 1.2341971791906\n"
     ]
    },
    {
     "data": {
      "application/vnd.jupyter.widget-view+json": {
       "model_id": "2c8803f2c67d4bbe8e7c186d371cdb73",
       "version_major": 2,
       "version_minor": 0
      },
      "text/plain": [
       "interactive(children=(IntSlider(value=0, description='i', max=46), Output()), _dom_classes=('widget-interact',…"
      ]
     },
     "metadata": {},
     "output_type": "display_data"
    }
   ],
   "source": [
    "#MODAOA with 820 Queries\n",
    "n_samples = 100\n",
    "dim = (n_samples,32,32,3)\n",
    "images = np.genfromtxt('../hard_label_cifar_1/CLEAN_X.csv', delimiter=',')\n",
    "orig_images = images.reshape(dim)\n",
    "orig_labels = np.genfromtxt('../hard_label_cifar_1/CLEAN_Y.csv', delimiter=',')\n",
    "\n",
    "images = np.genfromtxt('../hard_label_cifar_1/OPYT_X.csv', delimiter=',')\n",
    "adv_images_820 = images.reshape(dim)\n",
    "adv_labels_820 = np.genfromtxt('../hard_label_cifar_1/OPYT_Y.csv', delimiter=',')\n",
    "\n",
    "browse_mis_samples(orig_images, adv_images_820, orig_labels, adv_labels_820, dim=(n_samples,32,32,3), class_name=cifar_class_names)"
   ]
  },
  {
   "cell_type": "code",
   "execution_count": 38,
   "id": "8f344169",
   "metadata": {},
   "outputs": [
    {
     "name": "stdout",
     "output_type": "stream",
     "text": [
      "CORRECTED Mis-classified Images: 47 out of Total: 100\n",
      "Mis preds:  [ 2  5  6  9 10 11 12 16 19 20 21 24 26 28 29 31 32 34 35 38 39 42 43 46\n",
      " 47 50 51 52 53 55 56 61 63 66 67 68 71 72 74 76 77 79 83 85 86 92 93]\n",
      "Mean L2 Dist.: 1.617611268016677\n",
      "Median L2 Dist.: 1.2341971791906\n"
     ]
    },
    {
     "data": {
      "application/vnd.jupyter.widget-view+json": {
       "model_id": "ec016b56c01146849da85785325f71fa",
       "version_major": 2,
       "version_minor": 0
      },
      "text/plain": [
       "interactive(children=(IntSlider(value=0, description='i', max=46), Output()), _dom_classes=('widget-interact',…"
      ]
     },
     "metadata": {},
     "output_type": "display_data"
    }
   ],
   "source": [
    "#MODAOA with 1620 Queries\n",
    "n_samples = 100\n",
    "dim = (n_samples,32,32,3)\n",
    "images = np.genfromtxt('../hard_label_cifar_1/CLEAN_X.csv', delimiter=',')\n",
    "orig_images = images.reshape(dim)\n",
    "orig_labels = np.genfromtxt('../hard_label_cifar_1/CLEAN_Y.csv', delimiter=',')\n",
    "\n",
    "images = np.genfromtxt('../hard_label_cifar_1/OPYT_X.csv', delimiter=',')\n",
    "adv_images_1620 = images.reshape(dim)\n",
    "adv_labels_1620 = np.genfromtxt('../hard_label_cifar_1/OPYT_Y.csv', delimiter=',')\n",
    "\n",
    "browse_mis_samples(orig_images, adv_images_1620, orig_labels, adv_labels_1620, dim=(n_samples,32,32,3), class_name=cifar_class_names)"
   ]
  },
  {
   "cell_type": "code",
   "execution_count": 52,
   "id": "e10fe3e7",
   "metadata": {},
   "outputs": [
    {
     "name": "stdout",
     "output_type": "stream",
     "text": [
      "CORRECTED Mis-classified Images: 53 out of Total: 100\n",
      "Mis preds:  [ 2  5  6  9 10 11 12 20 21 24 26 28 29 31 32 34 35 38 39 42 46 47 50 51\n",
      " 52 53 54 55 56 59 60 61 63 64 66 67 68 69 71 72 74 76 77 78 79 80 83 85\n",
      " 86 88 92 93 95]\n",
      "Mean L2 Dist.: 1.1195656694018747\n",
      "Median L2 Dist.: 1.1163453078498042\n"
     ]
    },
    {
     "data": {
      "application/vnd.jupyter.widget-view+json": {
       "model_id": "492d923f55d94e679337c8a3901fcd36",
       "version_major": 2,
       "version_minor": 0
      },
      "text/plain": [
       "interactive(children=(IntSlider(value=0, description='i', max=52), Output()), _dom_classes=('widget-interact',…"
      ]
     },
     "metadata": {},
     "output_type": "display_data"
    }
   ],
   "source": [
    "#MODAOA with 4020 Queries\n",
    "n_samples = 100\n",
    "dim = (n_samples,32,32,3)\n",
    "images = np.genfromtxt('../test_hard_label_modaoa_iter_200/CLEAN_X.csv', delimiter=',')\n",
    "orig_images = images.reshape(dim)\n",
    "orig_labels = np.genfromtxt('../test_hard_label_modaoa_iter_200/CLEAN_Y.csv', delimiter=',')\n",
    "\n",
    "images = np.genfromtxt('../test_hard_label_modaoa_iter_200/OPYT_X.csv', delimiter=',')\n",
    "adv_images_4020 = images.reshape(dim)\n",
    "adv_labels_4020 = np.genfromtxt('../test_hard_label_modaoa_iter_200/OPYT_Y.csv', delimiter=',')\n",
    "\n",
    "browse_mis_samples(orig_images, adv_images_4020, orig_labels, adv_labels_4020, dim=(n_samples,32,32,3), class_name=cifar_class_names)"
   ]
  },
  {
   "cell_type": "code",
   "execution_count": 54,
   "id": "f44a55f5",
   "metadata": {},
   "outputs": [
    {
     "data": {
      "image/png": "[encoded data removed]",
      "text/plain": [
       "<Figure size 360x144 with 1 Axes>"
      ]
     },
     "metadata": {
      "needs_background": "light"
     },
     "output_type": "display_data"
    }
   ],
   "source": [
    "show_image(orig_images[5],orig_labels[5])"
   ]
  },
  {
   "cell_type": "code",
   "execution_count": 56,
   "id": "48f79caf",
   "metadata": {},
   "outputs": [
    {
     "data": {
      "image/png": "[encoded data removed]",
      "text/plain": [
       "<Figure size 360x144 with 1 Axes>"
      ]
     },
     "metadata": {
      "needs_background": "light"
     },
     "output_type": "display_data"
    }
   ],
   "source": [
    "show_image(adv_images_210[5],adv_labels_210[5])"
   ]
  },
  {
   "cell_type": "code",
   "execution_count": 115,
   "id": "f0120033",
   "metadata": {},
   "outputs": [
    {
     "data": {
      "application/vnd.jupyter.widget-view+json": {
       "model_id": "e2de77d3f3ee46cc9ee8b7fef464a1ff",
       "version_major": 2,
       "version_minor": 0
      },
      "text/plain": [
       "interactive(children=(IntSlider(value=0, description='i', max=99), Output()), _dom_classes=('widget-interact',…"
      ]
     },
     "metadata": {},
     "output_type": "display_data"
    },
    {
     "data": {
      "text/plain": [
       "<function __main__.view_image(i=0)>"
      ]
     },
     "execution_count": 115,
     "metadata": {},
     "output_type": "execute_result"
    }
   ],
   "source": [
    "N=100\n",
    "rows = 1\n",
    "columns = 6\n",
    "def view_image(i=0):\n",
    "  fig = plt.figure(figsize=(15, 4))\n",
    "  true_label = cifar_class_names[np.argmax(orig_labels[i])]\n",
    "  fig.add_subplot(rows, columns, 1)\n",
    "  plt.imshow(orig_images[i].reshape(dim[1], dim[2], dim[3]), cmap='Greys_r', interpolation='nearest')\n",
    "  plt.axis('off')\n",
    "  plt.title(f\"True:{true_label}\")\n",
    "\n",
    "  fig.add_subplot(rows, columns, 2)\n",
    "  plt.imshow(adv_images_210[i].reshape(dim[1], dim[2], dim[3]), cmap='Greys_r', interpolation='nearest')\n",
    "  plt.axis('off')\n",
    "  dist =  l_2_dist(orig_images[i], adv_images_210[i])\n",
    "  plt.title(f\"{cifar_class_names[np.argmax(adv_labels_210[i])]}, {round(dist,2)}\")\n",
    "\n",
    "  fig.add_subplot(rows, columns, 3)\n",
    "  plt.imshow(adv_images_465[i].reshape(dim[1], dim[2], dim[3]), cmap='Greys_r', interpolation='nearest')\n",
    "  plt.axis('off')\n",
    "  dist =  l_2_dist(orig_images[i], adv_images_465[i])\n",
    "  plt.title(f\"{cifar_class_names[np.argmax(adv_labels_465[i])]}, {round(dist,2)}\")\n",
    "\n",
    "  fig.add_subplot(rows, columns, 4)\n",
    "  plt.imshow(adv_images_820[i].reshape(dim[1], dim[2], dim[3]), cmap='Greys_r', interpolation='nearest')\n",
    "  plt.axis('off')\n",
    "  dist =  l_2_dist(orig_images[i], adv_images_820[i])\n",
    "  plt.title(f\"{cifar_class_names[np.argmax(adv_labels_820[i])]}, {round(dist,2)}\")\n",
    "\n",
    "  fig.add_subplot(rows, columns, 5)\n",
    "  plt.imshow(adv_images_1620[i].reshape(dim[1], dim[2], dim[3]), cmap='Greys_r', interpolation='nearest')\n",
    "  plt.axis('off')\n",
    "  dist =  l_2_dist(orig_images[i], adv_images_1620[i])\n",
    "  plt.title(f\"{cifar_class_names[np.argmax(adv_labels_1620[i])]}, {round(dist,2)}\")\n",
    "    \n",
    "  fig.add_subplot(rows, columns, 6)\n",
    "  plt.imshow(adv_images_4020[i].reshape(dim[1], dim[2], dim[3]), cmap='Greys_r', interpolation='nearest')\n",
    "  plt.axis('off')\n",
    "  dist =  l_2_dist(orig_images[i], adv_images_4020[i])\n",
    "  plt.title(f\"{cifar_class_names[np.argmax(adv_labels_4020[i])]}, {round(dist,2)}\")\n",
    "    \n",
    "interact(view_image, i=(0, N-1))"
   ]
  },
  {
   "cell_type": "code",
   "execution_count": 140,
   "id": "58c76440",
   "metadata": {},
   "outputs": [
    {
     "data": {
      "application/vnd.jupyter.widget-view+json": {
       "model_id": "142c7dff4ad346d9ad847f72443729d5",
       "version_major": 2,
       "version_minor": 0
      },
      "text/plain": [
       "interactive(children=(IntSlider(value=0, description='i', max=99), Output()), _dom_classes=('widget-interact',…"
      ]
     },
     "metadata": {},
     "output_type": "display_data"
    },
    {
     "data": {
      "text/plain": [
       "<function __main__.view_image(i=0)>"
      ]
     },
     "execution_count": 140,
     "metadata": {},
     "output_type": "execute_result"
    }
   ],
   "source": [
    "N=100\n",
    "rows = 2\n",
    "columns = 6\n",
    "def view_image(i=0):\n",
    "  fig = plt.figure(figsize=(15, 4))\n",
    "  true_label = cifar_class_names[np.argmax(orig_labels[i])]\n",
    "    \n",
    "  fig.add_subplot(rows, columns, 1)\n",
    "  plt.imshow(orig_images[i].reshape(dim[1], dim[2], dim[3]), cmap='Greys_r', interpolation='nearest')\n",
    "  plt.axis('off')\n",
    "  plt.title(f\"True:{true_label}\")\n",
    "  \n",
    "  fig.add_subplot(rows, columns, 2)\n",
    "  plt.imshow(adv_images_210[i].reshape(dim[1], dim[2], dim[3]), cmap='Greys_r', interpolation='nearest')\n",
    "  plt.axis('off')\n",
    "  dist =  l_2_dist(orig_images[i], adv_images_210[i])\n",
    "  plt.title(f\"{cifar_class_names[np.argmax(adv_labels_210[i])]}, {round(dist,2)}\")\n",
    "\n",
    "  fig.add_subplot(rows, columns, 3)\n",
    "  plt.imshow(adv_images_465[i].reshape(dim[1], dim[2], dim[3]), cmap='Greys_r', interpolation='nearest')\n",
    "  plt.axis('off')\n",
    "  dist =  l_2_dist(orig_images[i], adv_images_465[i])\n",
    "  plt.title(f\"{cifar_class_names[np.argmax(adv_labels_465[i])]}, {round(dist,2)}\")\n",
    "\n",
    "  fig.add_subplot(rows, columns, 4)\n",
    "  plt.imshow(adv_images_820[i].reshape(dim[1], dim[2], dim[3]), cmap='Greys_r', interpolation='nearest')\n",
    "  plt.axis('off')\n",
    "  dist =  l_2_dist(orig_images[i], adv_images_820[i])\n",
    "  plt.title(f\"{cifar_class_names[np.argmax(adv_labels_820[i])]}, {round(dist,2)}\")\n",
    "\n",
    "  fig.add_subplot(rows, columns, 5)\n",
    "  plt.imshow(adv_images_1620[i].reshape(dim[1], dim[2], dim[3]), cmap='Greys_r', interpolation='nearest')\n",
    "  plt.axis('off')\n",
    "  dist =  l_2_dist(orig_images[i], adv_images_1620[i])\n",
    "  plt.title(f\"{cifar_class_names[np.argmax(adv_labels_1620[i])]}, {round(dist,2)}\")\n",
    "    \n",
    "  fig.add_subplot(rows, columns, 6)\n",
    "  plt.imshow(adv_images_4020[i].reshape(dim[1], dim[2], dim[3]), cmap='Greys_r', interpolation='nearest')\n",
    "  plt.axis('off')\n",
    "  dist =  l_2_dist(orig_images[i], adv_images_4020[i])\n",
    "  plt.title(f\"{cifar_class_names[np.argmax(adv_labels_4020[i])]}, {round(dist,2)}\")\n",
    "\n",
    "  ###second row skipping 7th position\n",
    "  fig.add_subplot(rows, columns, 8)\n",
    "  plt.imshow((adv_images_210[i] - orig_images[i]).reshape(dim[1], dim[2], dim[3]), cmap='Greys_r', interpolation='nearest')\n",
    "  plt.axis('off')\n",
    "  plt.title(f\"Difference\")\n",
    "\n",
    "  fig.add_subplot(rows, columns, 9)\n",
    "  plt.imshow((adv_images_465[i] - orig_images[i]).reshape(dim[1], dim[2], dim[3]), cmap='Greys_r', interpolation='nearest')\n",
    "  plt.axis('off')\n",
    "  plt.title(f\"Difference\")\n",
    "\n",
    "  fig.add_subplot(rows, columns, 10)\n",
    "  plt.imshow((adv_images_820[i] - orig_images[i]).reshape(dim[1], dim[2], dim[3]), cmap='Greys_r', interpolation='nearest')\n",
    "  plt.axis('off')\n",
    "  plt.title(f\"Difference\")\n",
    "    \n",
    "  fig.add_subplot(rows, columns, 11)\n",
    "  plt.imshow((adv_images_1620[i] - orig_images[i]).reshape(dim[1], dim[2], dim[3]), cmap='Greys_r', interpolation='nearest')\n",
    "  plt.axis('off')\n",
    "  plt.title(f\"Difference\")\n",
    "    \n",
    "  fig.add_subplot(rows, columns, 12)\n",
    "  plt.imshow((adv_images_4020[i] - orig_images[i]).reshape(dim[1], dim[2], dim[3]), cmap='Greys_r', interpolation='nearest')\n",
    "  plt.axis('off')\n",
    "  plt.title(f\"Difference\")\n",
    "    \n",
    "interact(view_image, i=(0, N-1))"
   ]
  },
  {
   "cell_type": "code",
   "execution_count": 145,
   "id": "32c9ddf4",
   "metadata": {},
   "outputs": [
    {
     "data": {
      "application/vnd.jupyter.widget-view+json": {
       "model_id": "8517123ff4f1466eb585e2e57ee497e1",
       "version_major": 2,
       "version_minor": 0
      },
      "text/plain": [
       "interactive(children=(IntSlider(value=0, description='i', max=99), Output()), _dom_classes=('widget-interact',…"
      ]
     },
     "metadata": {},
     "output_type": "display_data"
    },
    {
     "data": {
      "text/plain": [
       "<function __main__.view_image(i=0)>"
      ]
     },
     "execution_count": 145,
     "metadata": {},
     "output_type": "execute_result"
    }
   ],
   "source": [
    "N=100\n",
    "rows = 3\n",
    "columns = 1\n",
    "def view_image(i=0):\n",
    "  fig = plt.figure(figsize=(15, 8))\n",
    "  true_label = cifar_class_names[np.argmax(orig_labels[i])]\n",
    "    \n",
    "  fig.add_subplot(rows, columns, 1)\n",
    "  plt.imshow(orig_images[i].reshape(dim[1], dim[2], dim[3]), cmap='Greys_r', interpolation='nearest')\n",
    "  plt.axis('off')\n",
    "  plt.title(f\"True:{true_label}\")\n",
    "    \n",
    "  fig.add_subplot(rows, columns, 2)\n",
    "  plt.imshow((adv_images_210[i] - orig_images[i]).reshape(dim[1], dim[2], dim[3]), cmap='Greys_r', interpolation='nearest')\n",
    "  plt.axis('off')\n",
    "  plt.title(f\"Perturbation\")\n",
    "\n",
    "  fig.add_subplot(rows, columns, 3)\n",
    "  plt.imshow(adv_images_210[i].reshape(dim[1], dim[2], dim[3]), cmap='Greys_r', interpolation='nearest')\n",
    "  plt.axis('off')\n",
    "  dist =  l_2_dist(orig_images[i], adv_images_210[i])\n",
    "  plt.title(f\"{cifar_class_names[np.argmax(adv_labels_210[i])]}, {round(dist,2)}\")\n",
    "    \n",
    "interact(view_image, i=(0, N-1))"
   ]
  }
 ],
 "metadata": {
  "kernelspec": {
   "display_name": "opyt",
   "language": "python",
   "name": "opyt"
  },
  "language_info": {
   "codemirror_mode": {
    "name": "ipython",
    "version": 3
   },
   "file_extension": ".py",
   "mimetype": "text/x-python",
   "name": "python",
   "nbconvert_exporter": "python",
   "pygments_lexer": "ipython3",
   "version": "3.7.10"
  }
 },
 "nbformat": 4,
 "nbformat_minor": 5
}
